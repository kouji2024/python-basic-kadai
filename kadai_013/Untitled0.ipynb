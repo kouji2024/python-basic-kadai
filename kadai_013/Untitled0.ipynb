{
  "nbformat": 4,
  "nbformat_minor": 0,
  "metadata": {
    "colab": {
      "provenance": []
    },
    "kernelspec": {
      "name": "python3",
      "display_name": "Python 3"
    },
    "language_info": {
      "name": "python"
    }
  },
  "cells": [
    {
      "cell_type": "code",
      "source": [
        "def add_two_arguments(price, tax):\n",
        "  total = price * tax\n",
        "  print(f\"{total}円\")\n",
        "\n",
        "add_two_arguments(100,1.1)\n"
      ],
      "metadata": {
        "colab": {
          "base_uri": "https://localhost:8080/"
        },
        "id": "QeBVIHwBqbVC",
        "outputId": "f1eb732d-b042-49ac-a067-77aafed2fe72"
      },
      "execution_count": null,
      "outputs": [
        {
          "output_type": "stream",
          "name": "stdout",
          "text": [
            "110.00000000000001円\n"
          ]
        }
      ]
    },
    {
      "cell_type": "code",
      "source": [
        "def calculate_with_tax(price):\n",
        "  tax_rate = 0.10\n",
        "  total_price = price * (1 + tax_rate)\n",
        "  return total_price\n",
        "calculate_with_tax(100)"
      ],
      "metadata": {
        "colab": {
          "base_uri": "https://localhost:8080/"
        },
        "id": "LnqMIAy-srCA",
        "outputId": "066f9506-447c-4075-c0c6-90190de53be5"
      },
      "execution_count": null,
      "outputs": [
        {
          "output_type": "execute_result",
          "data": {
            "text/plain": [
              "110.00000000000001"
            ]
          },
          "metadata": {},
          "execution_count": 8
        }
      ]
    },
    {
      "cell_type": "code",
      "source": [],
      "metadata": {
        "id": "yVO8FqLGzS2N"
      },
      "execution_count": null,
      "outputs": []
    }
  ]
}