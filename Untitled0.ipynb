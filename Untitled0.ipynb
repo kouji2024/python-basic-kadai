{
  "nbformat": 4,
  "nbformat_minor": 0,
  "metadata": {
    "colab": {
      "provenance": []
    },
    "kernelspec": {
      "name": "python3",
      "display_name": "Python 3"
    },
    "language_info": {
      "name": "python"
    }
  },
  "cells": [
    {
      "cell_type": "code",
      "source": [],
      "metadata": {
        "id": "zNPaSLHA5kt7"
      },
      "execution_count": null,
      "outputs": []
    },
    {
      "cell_type": "code",
      "source": [],
      "metadata": {
        "id": "Wy6YZO3654fc"
      },
      "execution_count": null,
      "outputs": []
    },
    {
      "cell_type": "code",
      "execution_count": null,
      "metadata": {
        "colab": {
          "base_uri": "https://localhost:8080/"
        },
        "id": "zZen_1X94aoq",
        "outputId": "72cecd46-6441-41e6-d6cf-f2308244bb83"
      },
      "outputs": [
        {
          "output_type": "stream",
          "name": "stdout",
          "text": [
            "75.0㎠\n"
          ]
        }
      ],
      "source": [
        "upmost=10\n",
        "dawn=20\n",
        "up=5\n",
        "#台形の面積\n",
        "area=(upmost+dawn)*up/2\n",
        "\n",
        "print(str(area)+\"㎠\")"
      ]
    }
  ]
}