{
  "nbformat": 4,
  "nbformat_minor": 0,
  "metadata": {
    "colab": {
      "provenance": []
    },
    "kernelspec": {
      "name": "python3",
      "display_name": "Python 3"
    },
    "language_info": {
      "name": "python"
    }
  },
  "cells": [
    {
      "cell_type": "code",
      "source": [
        "from re import VERBOSE\n",
        "Ver = 9\n",
        "if Ver % 3 == 0 and Ver % 5 ==0:\n",
        "  print(\"FizzBuzz\")\n",
        "elif Ver % 3 == 0:\n",
        "  print(\"Fizz\")\n",
        "elif Ver % 5 == 0:\n",
        "  print(\"Buzz\")\n",
        "else:\n",
        "  print(Ver)"
      ],
      "metadata": {
        "colab": {
          "base_uri": "https://localhost:8080/"
        },
        "id": "KcNS0SfFMt2m",
        "outputId": "0bef9cb4-9a98-42da-d696-c4d9084dcbfa"
      },
      "execution_count": 6,
      "outputs": [
        {
          "output_type": "stream",
          "name": "stdout",
          "text": [
            "Fizz\n"
          ]
        }
      ]
    }
  ]
}