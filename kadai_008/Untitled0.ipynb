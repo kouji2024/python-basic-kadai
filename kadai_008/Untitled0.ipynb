{
  "nbformat": 4,
  "nbformat_minor": 0,
  "metadata": {
    "colab": {
      "provenance": []
    },
    "kernelspec": {
      "name": "python3",
      "display_name": "Python 3"
    },
    "language_info": {
      "name": "python"
    }
  },
  "cells": [
    {
      "cell_type": "code",
      "source": [
        "from re import VERBOSE\n",
        "Ver = 10\n",
        "if Ver % 3 == 0:\n",
        "  print(\"Fizz\")\n",
        "elif Ver % 5 == 0:\n",
        "  print(\"Buzz\")\n",
        "elif Ver % 3 == 0 and Ver % 5 ==0:\n",
        "  print(\"FizzBuzz\")\n",
        "else:\n",
        "  print(Ver)"
      ],
      "metadata": {
        "colab": {
          "base_uri": "https://localhost:8080/"
        },
        "id": "KcNS0SfFMt2m",
        "outputId": "49e480b8-ab8d-49c7-d9cf-35474b20ae10"
      },
      "execution_count": 27,
      "outputs": [
        {
          "output_type": "stream",
          "name": "stdout",
          "text": [
            "Buzz\n"
          ]
        }
      ]
    }
  ]
}